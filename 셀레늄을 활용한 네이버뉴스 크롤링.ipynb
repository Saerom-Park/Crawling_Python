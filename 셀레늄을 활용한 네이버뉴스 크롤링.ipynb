{
 "cells": [
  {
   "cell_type": "code",
   "execution_count": 1,
   "metadata": {},
   "outputs": [],
   "source": [
    "import requests\n",
    "from bs4 import BeautifulSoup\n",
    "from urllib.request import urlretrieve"
   ]
  },
  {
   "cell_type": "code",
   "execution_count": 2,
   "metadata": {},
   "outputs": [],
   "source": [
    "import openpyxl"
   ]
  },
  {
   "cell_type": "code",
   "execution_count": 3,
   "metadata": {},
   "outputs": [],
   "source": [
    "from selenium import webdriver\n",
    "import time\n",
    "import datetime"
   ]
  },
  {
   "cell_type": "markdown",
   "metadata": {},
   "source": [
    "### 새로운 워크북 파일 생성"
   ]
  },
  {
   "cell_type": "markdown",
   "metadata": {},
   "source": [
    "Keyword에 학교폭력 \"학교폭력\"을 입력받은 후 엑셀 파일을 만듬.\n",
    "\n",
    "Word Cloud 만들 때 본문만 필요하므로 기사의 본문만 수집."
   ]
  },
  {
   "cell_type": "code",
   "execution_count": 44,
   "metadata": {},
   "outputs": [
    {
     "name": "stdout",
     "output_type": "stream",
     "text": [
      "검색어를 입력해주세요: 학교폭력 \"학교폭력\"\n",
      "불러오기 완료\n"
     ]
    }
   ],
   "source": [
    "keyword = input(\"검색어를 입력해주세요: \")\n",
    "#학교폭력 \"학교폭력\"\n",
    "\n",
    "try:\n",
    "    wb = openpyxl.load_workbook(\"2021_학교폭력_뉴스.xlsx\") #존재하는 파일에다가 새로운 데이터 누적하여 입력\n",
    "    sheet = wb.active\n",
    "    print(\"불러오기 완료\")\n",
    "except:\n",
    "    wb = openpyxl.Workbook()\n",
    "    sheet = wb.active\n",
    "    sheet.append([\"본문\"])\n",
    "    print(\"새로운 파일을 만들었습니다\")"
   ]
  },
  {
   "cell_type": "markdown",
   "metadata": {},
   "source": [
    "### Chrome 웹드라이버 실행"
   ]
  },
  {
   "cell_type": "code",
   "execution_count": 45,
   "metadata": {},
   "outputs": [],
   "source": [
    "driver = webdriver.Chrome('./chromedriver')\n",
    "driver.get('https://news.naver.com/')"
   ]
  },
  {
   "cell_type": "code",
   "execution_count": 46,
   "metadata": {},
   "outputs": [],
   "source": [
    "# 검색창 : input.text_index\n",
    "# 검색버튼 : button.btn_search_lnb\n",
    "time.sleep(1)\n",
    "search = driver.find_element_by_css_selector('input.text_index')\n",
    "search.send_keys(keyword)\n",
    "button = driver.find_element_by_css_selector('button.btn_search_lnb')\n",
    "button.click()"
   ]
  },
  {
   "cell_type": "code",
   "execution_count": 47,
   "metadata": {},
   "outputs": [
    {
     "name": "stdout",
     "output_type": "stream",
     "text": [
      "Current Page Title is : 학교폭력 \"학교폭력\" : 네이버 뉴스검색\n"
     ]
    }
   ],
   "source": [
    "driver.switch_to.window(driver.window_handles[1])\n",
    "print(\"Current Page Title is : %s\" %driver.title)"
   ]
  },
  {
   "cell_type": "markdown",
   "metadata": {},
   "source": [
    "### 기간 설정"
   ]
  },
  {
   "cell_type": "code",
   "execution_count": 48,
   "metadata": {},
   "outputs": [],
   "source": [
    "# 검색옵션 : a#search_option_button.bt_option\n",
    "# 날짜 : div._search_option_period_\n",
    "# 기간(이전) : input#news_input_period_begin.input_txt._input_text_\n",
    "# 기간(이후) : input#news_input_period_end.input_txt._input_text_\n",
    "# 적용 : div._search_option_period_ button._btn_submit_\n",
    "\n",
    "# 검색옵션 열기\n",
    "time.sleep(3)\n",
    "search_opt_box = driver.find_element_by_xpath('//*[@id=\"search_option_button\"]')\n",
    "search_opt_box.click()\n",
    "time.sleep(1)\n",
    "\n",
    "tablist_box = driver.find_element_by_xpath('//div[@class=\"snb_inner\"]/ul[@role=\"tablist\" and @class=\"option_menu\"]')\n",
    "\n",
    "tablist_elem_list = tablist_box.find_elements_by_xpath('./li[@role=\"presentation\"]')\n",
    "press_box = [t for t in tablist_elem_list if t.text == '기간'][0].find_element_by_xpath('./a')\n",
    "press_box.click()"
   ]
  },
  {
   "cell_type": "code",
   "execution_count": 49,
   "metadata": {},
   "outputs": [],
   "source": [
    "date_frame = driver.find_element_by_xpath('.//div[@class=\"snb_itembox type_news _search_option_period_\"]')\n",
    "\n",
    "start_dt = datetime.datetime.strptime('2021.01.01', '%Y.%m.%d')\n",
    "last_dt = datetime.datetime.strptime('2021.02.28', '%Y.%m.%d')\n",
    "ds = start_dt.strftime('%Y.%m.%d')\n",
    "de = last_dt.strftime('%Y.%m.%d')\n",
    "min_date = driver.find_element_by_css_selector('input#news_input_period_begin.input_txt._input_text_')\n",
    "min_date.send_keys(ds)\n",
    "max_date = driver.find_element_by_css_selector('input#news_input_period_end.input_txt._input_text_')\n",
    "max_date.send_keys(de)\n",
    "button = driver.find_element_by_css_selector('div._search_option_period_ button._btn_submit_')\n",
    "button.click()"
   ]
  },
  {
   "cell_type": "markdown",
   "metadata": {},
   "source": [
    "### 언론사 설정"
   ]
  },
  {
   "cell_type": "code",
   "execution_count": 50,
   "metadata": {},
   "outputs": [
    {
     "name": "stdout",
     "output_type": "stream",
     "text": [
      "연합뉴스\n",
      "JTBC\n"
     ]
    }
   ],
   "source": [
    "press_list = ['연합뉴스','JTBC']\n",
    "tablist_box = driver.find_element_by_xpath('//div[@class=\"snb_inner\"]/ul[@role=\"tablist\" and @class=\"option_menu\"]')\n",
    "tablist_elem_list = tablist_box.find_elements_by_xpath('./li[@role=\"presentation\"]')\n",
    "press_box = [t for t in tablist_elem_list if t.text == '언론사'][0].find_element_by_xpath('./a')\n",
    "press_box.click()\n",
    "\n",
    "activated_press_frame = driver.find_element_by_css_selector('div.snb_itembox.lst_press')\n",
    "total_press_box = activated_press_frame.find_element_by_css_selector('div#order_cat.group_sort')\n",
    "press_cat_active_button = total_press_box.find_elements_by_xpath('.//a[@role=\"tab\" and @class=\"item _tab_filter_\"]')\n",
    "press_cat_active_button_dict = dict(zip([t.text for t in press_cat_active_button], press_cat_active_button))\n",
    "\n",
    "each_press_box_list = total_press_box.find_elements_by_xpath('.//div[@class=\"scroll_area _panel_filter_\"]')\n",
    "\n",
    "for idx, press_cat_name in enumerate(press_cat_active_button_dict.keys()):\n",
    "    #하나의 언론사 종류를 클릭해서 활성화시킴\n",
    "    press_cat_active_button_dict[press_cat_name].click()\n",
    "    time.sleep(0.5)\n",
    "    \n",
    "    # 선택한 언론사 종류 안의 개별 언론사가 담긴 박스\n",
    "    each_press_box = each_press_box_list[idx].find_element_by_xpath('./div[@class=\"select_item\"]')\n",
    "    # 개별 언론사의 이름\n",
    "    each_press_title_list = [ep.get_attribute('title') for ep in each_press_box.find_elements_by_xpath('.//label')]\n",
    "    # 개별 언론사 체크 박스\n",
    "    each_press_input_list = each_press_box.find_elements_by_xpath('.//input')\n",
    "    \n",
    "\n",
    "    # 딕셔너리(개별 언론사 이름 : 개별 언론사 체크 박스)\n",
    "    each_press_title_input_dict = dict(zip(each_press_title_list, each_press_input_list))\n",
    "    # 추출하고 싶은 언론사 존재 시 체크박스 클릭\n",
    "    for title in [tit for tit in each_press_title_input_dict.keys() if tit in press_list]:\n",
    "        print(title)\n",
    "        each_press_title_input_dict[title].click()\n",
    "        \n",
    "button = driver.find_element_by_css_selector('button.type_default._btn_submit_')\n",
    "button.click()"
   ]
  },
  {
   "cell_type": "markdown",
   "metadata": {},
   "source": [
    "### 기사 수집"
   ]
  },
  {
   "cell_type": "code",
   "execution_count": 51,
   "metadata": {},
   "outputs": [],
   "source": [
    "while True:\n",
    "    time.sleep(1)\n",
    "    articles = driver.find_elements_by_css_selector('div.news_area')\n",
    "    time.sleep(1)\n",
    "    if len(articles) == 10:\n",
    "        for article in articles:\n",
    "            #title = article.find_element_by_css_selector('a.news_tit').text\n",
    "            #dt = article.find_element_by_css_selector('span.info').text\n",
    "            driver.switch_to.window(driver.window_handles[1])\n",
    "            url = article.find_element_by_css_selector('a.news_tit')\n",
    "            url = url.get_attribute('href')\n",
    "            \n",
    "            try:\n",
    "\n",
    "                #open new tab\n",
    "                driver.execute_script(\"window.open('');\")\n",
    "                driver.switch_to.window(driver.window_handles[2])\n",
    "                driver.get(url)\n",
    "\n",
    "                time.sleep(1)\n",
    "\n",
    "                ## 기사본문: div#newsEndContents  //  div#articleBodyContents\n",
    "                try:\n",
    "                    content = driver.find_element_by_css_selector('div.article_content').text #JTBC\n",
    "                except:\n",
    "                    try:\n",
    "                        content = driver.find_element_by_css_selector('div.article').text #연합뉴스\n",
    "                    except:\n",
    "                        content = ' '\n",
    "                        pass\n",
    "                sheet.append([ content])\n",
    "                # close new tab\n",
    "                driver.close()\n",
    "\n",
    "                try:\n",
    "                    driver.switch_to.window(driver.window_handles[2])\n",
    "                    driver.close()\n",
    "                except:\n",
    "                    pass\n",
    "\n",
    "                time.sleep(1)\n",
    "                # naver news tab\n",
    "                driver.switch_to.window(driver.window_handles[1])\n",
    "            \n",
    "            except:\n",
    "                try:\n",
    "                    driver.switch_to.window(driver.window_handles[2])\n",
    "                    driver.close()\n",
    "                except:\n",
    "                    pass\n",
    "            \n",
    "                time.sleep(1)\n",
    "                driver.switch_to.window(driver.window_handles[1])\n",
    "                    \n",
    "        \n",
    "        page_bar = driver.find_elements_by_css_selector('div.sc_page > *')\n",
    "        page_bar[2].click()\n",
    "            \n",
    "    else:\n",
    "        for article in articles:\n",
    "            driver.switch_to.window(driver.window_handles[1])\n",
    "            url = article.find_element_by_css_selector('a.news_tit')\n",
    "            url = url.get_attribute('href')\n",
    "\n",
    "            #open new tab\n",
    "            driver.execute_script(\"window.open('');\")\n",
    "            driver.switch_to.window(driver.window_handles[2])\n",
    "            driver.get(url)\n",
    "\n",
    "            time.sleep(1)\n",
    "\n",
    "\n",
    "            try:\n",
    "                content = driver.find_element_by_css_selector('div.article_content').text #JTBC\n",
    "            except:\n",
    "                try:\n",
    "                    content = driver.find_element_by_css_selector('div.article').text #연합뉴스\n",
    "                except:\n",
    "                    content = ' '\n",
    "                    pass\n",
    "            sheet.append([content])\n",
    "            # close new tab\n",
    "            driver.close()\n",
    "            \n",
    "            try:\n",
    "                driver.switch_to.window(driver.window_handles[2])\n",
    "                driver.close()\n",
    "            except:\n",
    "                pass\n",
    "            \n",
    "            time.sleep(1)\n",
    "            # naver news tab\n",
    "            driver.switch_to.window(driver.window_handles[1])\n",
    "        break"
   ]
  },
  {
   "cell_type": "markdown",
   "metadata": {},
   "source": [
    "### 엑셀 파일로 저장"
   ]
  },
  {
   "cell_type": "code",
   "execution_count": 52,
   "metadata": {},
   "outputs": [],
   "source": [
    "wb.save(\"2021_학교폭력_뉴스.xlsx\")\n",
    "driver.close()\n",
    "driver.switch_to.window(driver.window_handles[0])\n",
    "driver.close()"
   ]
  },
  {
   "cell_type": "code",
   "execution_count": 53,
   "metadata": {},
   "outputs": [
    {
     "name": "stdout",
     "output_type": "stream",
     "text": [
      "(334, 1)\n"
     ]
    },
    {
     "data": {
      "text/html": [
       "<div>\n",
       "<style scoped>\n",
       "    .dataframe tbody tr th:only-of-type {\n",
       "        vertical-align: middle;\n",
       "    }\n",
       "\n",
       "    .dataframe tbody tr th {\n",
       "        vertical-align: top;\n",
       "    }\n",
       "\n",
       "    .dataframe thead th {\n",
       "        text-align: right;\n",
       "    }\n",
       "</style>\n",
       "<table border=\"1\" class=\"dataframe\">\n",
       "  <thead>\n",
       "    <tr style=\"text-align: right;\">\n",
       "      <th></th>\n",
       "      <th>본문</th>\n",
       "    </tr>\n",
       "  </thead>\n",
       "  <tbody>\n",
       "    <tr>\n",
       "      <th>0</th>\n",
       "      <td>- 코로나19로 면대면 학폭 줄었으나 와이파이셔틀 등 사이버 학폭 늘어\\n- '학교...</td>\n",
       "    </tr>\n",
       "    <tr>\n",
       "      <th>1</th>\n",
       "      <td>&lt;정지은 전 트라이애슬론 선수&gt;\\n- 故 최숙현 사건·팀 내 폭행 증언 후 재계약 ...</td>\n",
       "    </tr>\n",
       "    <tr>\n",
       "      <th>2</th>\n",
       "      <td>김승욱 기자\\n기자 페이지\\n화장실·기숙사 등 불법카메라 점검…디지털성범죄 예방교육...</td>\n",
       "    </tr>\n",
       "    <tr>\n",
       "      <th>3</th>\n",
       "      <td>김동철 기자\\n기자 페이지\\n전북교육청\\n[연합뉴스 자료사진]\\n(전주=연합뉴스) ...</td>\n",
       "    </tr>\n",
       "    <tr>\n",
       "      <th>4</th>\n",
       "      <td>\"야, 카톡 바로 안 보냐? 죽고 싶어서 환장을 했지? 두고 봐.\"\\n\\n이 앱을 ...</td>\n",
       "    </tr>\n",
       "  </tbody>\n",
       "</table>\n",
       "</div>"
      ],
      "text/plain": [
       "                                                  본문\n",
       "0  - 코로나19로 면대면 학폭 줄었으나 와이파이셔틀 등 사이버 학폭 늘어\\n- '학교...\n",
       "1  <정지은 전 트라이애슬론 선수>\\n- 故 최숙현 사건·팀 내 폭행 증언 후 재계약 ...\n",
       "2  김승욱 기자\\n기자 페이지\\n화장실·기숙사 등 불법카메라 점검…디지털성범죄 예방교육...\n",
       "3  김동철 기자\\n기자 페이지\\n전북교육청\\n[연합뉴스 자료사진]\\n(전주=연합뉴스) ...\n",
       "4  \"야, 카톡 바로 안 보냐? 죽고 싶어서 환장을 했지? 두고 봐.\"\\n\\n이 앱을 ..."
      ]
     },
     "execution_count": 53,
     "metadata": {},
     "output_type": "execute_result"
    }
   ],
   "source": [
    "import pandas as pd\n",
    "\n",
    "data = pd.read_excel('2021_학교폭력_뉴스.xlsx')\n",
    "print(data.shape)\n",
    "data.head()"
   ]
  }
 ],
 "metadata": {
  "kernelspec": {
   "display_name": "Python 3",
   "language": "python",
   "name": "python3"
  },
  "language_info": {
   "codemirror_mode": {
    "name": "ipython",
    "version": 3
   },
   "file_extension": ".py",
   "mimetype": "text/x-python",
   "name": "python",
   "nbconvert_exporter": "python",
   "pygments_lexer": "ipython3",
   "version": "3.8.5"
  }
 },
 "nbformat": 4,
 "nbformat_minor": 4
}
